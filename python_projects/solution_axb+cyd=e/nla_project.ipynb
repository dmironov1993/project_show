{
 "cells": [
  {
   "cell_type": "markdown",
   "id": "93e9d953",
   "metadata": {},
   "source": [
    "# Численная линейная алгебра\n",
    "\n",
    "Проект подготовили: Миронов Денис, Зеленский Павел, Седых Иван, Джемадинов Эскендер"
   ]
  },
  {
   "cell_type": "markdown",
   "id": "e85f0c68",
   "metadata": {},
   "source": [
    "## Введение и актуальность\n",
    "\n",
    "В этой обзорной работе целью является изучение численных методов решения матричного уравнения\n",
    "\n",
    "$$AXB + CYD = E \\tag{1}.$$\n",
    "\n",
    "Здесь неизвестными являются матрицы $X$ и $Y$, тогда как остальные матрицы задаются таким образом, чтобы можно было выполнить матричное перемножение. Интерес уравнения (1) заключается в том, что его частные случаи находят применения в различных областях науки. Так, например, можно сказать, что (1) является более общим случаем для уравнения Сильвестра, а также для дискретного и непрерывного уравнения Ляпунова, встречающегося в теории управления. Об этих двух частных примерах мы и поговорим сейчас подробно.\n",
    "\n",
    "#### Уравнение Сильвестра\n",
    "\n",
    "Когда все матрицы в (1) квадратные, и $B = I$, $C = - I$, а $X = Y$, то уравнение (1) принимает вид уравнения Сильвестра\n",
    "\n",
    "$$AX - XD = E \\tag{2}.$$\n",
    "\n",
    "Выше мы обозначили за $I$ единичную матрицу нужного для матричного умножения размера.\n",
    "\n",
    "Если предположить, что $E = O$ в правой части (2), где $O$ - нулевая матрица, то мы приходим к однородному уравнению, которое изначально рассматривал Сильвестр в 1884 году. В этом случае можно выделить несколько частных подслучаев, каждый из которых является отдельной задачей линейной алгебры и ее приложений: \n",
    "\n",
    " 1. $Ax = b$  (обычная линейная система)\n",
    " 2. $Ax = \\lambda x$ (уравнение собственное значение - собственный вектор)\n",
    " 3. $AX = XA$ (матричная коммутативность)\n",
    " 4. $AX = I$ (обращение матрицы)\n",
    " \n",
    "Пройдемся по каждому из этих пунктов, и покажем как из уравнения Сильвестра мы можем их получить и какие выводы можно сделать. \n",
    "\n",
    "Естественно начать с первого пункта. Поскольку уравнение Сильвестра является линейным, то его можно представить в виде похожем на обычную линейную систему, которая записывается как $Ax = b$. Для этого мы применим оператор $vec$ к правой и левой частям уравнения (2), и воспользуемся известным соотношением $vec(ABC) = (C^{T} \\otimes A) vec(B)$, где $A$, $B$, $C$ - такие матрицы, что их произведение существует, а $T$ обозначает операцию транспонирование. Тогда в наших обозначениях из (2) получаем\n",
    "\n",
    "$$\\left ( \\left(I \\otimes A \\right) - \\left(D^{T} \\otimes I \\right) \\right) vec(X) = vec(E). \\tag{3}$$\n",
    "\n",
    "Уже из вида этого равенства ясно, что для того, чтобы у нас не было сингулярности нужно потребовать различие в собственных значениях матриц $A$ и $D$, а именно $\\eta_i(A) \\neq \\mu_j(D)$ для всех возможных пар $i$ и $j$.\n",
    "\n",
    "Второй пункт фактически тоже самое, но с $(2)$ вида $\\lambda x$.\n",
    "\n",
    "Далее, в случае, когда $A = D$ в уравнении $(2)$, мы работаем с уравнением вида $AX - XA = E$. Если взять $trace$ от обоих частей, то вправой части имеем $trace(AX - XA) = trace(AX) - trace(XA) = trace(XA) - trace(XA) = 0$, а влевой $trace(E)$, или, если объединить, $0 = trace(E).$ Следовательно, существование решения $(2)$ при $A = D$ требует, чтобы след матрицы $E$ был нулевым. Например, если $E = I$, то решений нет, поскольку $trace(E) = trace(I) \\neq 0$. Наоборот, в случае $E = O$ и верности уравнения Сильвестра, имеет место матричная коммутативность (пункт 3). \n",
    "\n",
    "Уравнение из четвертого пункта получается, когда в $(2)$ мы полагаем $D = O$, $E = I$. Уже из написанного нами ранее тождества $(3)$ следует, что в рассматриваемом случае существование обратной матрицы требует, чтобы не было нулевых собственных значений у матрицы $A$.\n",
    "\n",
    "\n",
    "Приведем еще несколько важных примеров, в которых встречается уравнение Сильвестра. Начнем с блочной матрицы следующего вида\n",
    "\n",
    "$$T = \\begin{pmatrix} A & C \\\\ 0 & B \\end{pmatrix}. \\tag{4}$$\n",
    "\n",
    "Ясно, что если матрицу $T$ диагонализировать, то последующая работа с $T$, если такова необходима, становятся легче, иначе нет смысла заниматься диагонализацией. Рассмотрим блочную матрицу\n",
    "\n",
    "$$Z = \\begin{pmatrix} I & -X \\\\ 0 & I \\end{pmatrix}. \\tag{5}$$\n",
    "\n",
    "Чтобы $Z$ диагонализировала $T$, необходимо и достаточно чтобы $AX - XB = C$. Убедимся в этом прямым расчетом\n",
    "\n",
    "$$Z^{-1}TZ = \\begin{pmatrix} A & -AX + XB + C \\\\ 0 & B  \\end{pmatrix}. \\tag{6}$$\n",
    "\n",
    "Диагонализация требует, чтобы $AX - XB = C$. Последнее является уравнением Сильвестра. Оно, уравнение, имеет решение, если собственные значения $A$ и $B$ различны, как мы показали ранее (смотри доказательство к пункту 1).\n",
    "\n",
    "#### Уравнения Ляпунова\n",
    "\n",
    "Теперь поговорим о двух важных уравнениях из теории управления. Одним из них является дискретное уравнение Ляпунова: \n",
    "\n",
    "$$X - AXA^{H} = E \\tag{7},$$\n",
    "\n",
    "которое является частным случаем (1) при $A = I$, $B = I$, $C = -A$, $Y = X$, $D = A^{H}$ а вторым непрерывное уравнение Ляпунова\n",
    "\n",
    "$$-AX - XA^{H} = E \\tag{8},$$\n",
    "\n",
    "которое тоже является частным случаем (1) при $B = - I$, $C = -I$, $Y = X$, $D = A^{H}$. В обоих этих уравнениях символ $H$ означает эрмитово-сопряжение. Более подробно мы поговорим о нем ниже."
   ]
  },
  {
   "cell_type": "markdown",
   "id": "884cf035",
   "metadata": {},
   "source": [
    "## Алгоритм из работы [5]"
   ]
  },
  {
   "cell_type": "markdown",
   "id": "c43dd614",
   "metadata": {},
   "source": [
    "В этом разделе мы тестируем алгоритм из работы [5]: Zhen-yun Peng, Ya-xin Peng. An effcient iterative method for solving the matrix equation $AXB + CYD = E$, 2006; 13:473-485"
   ]
  },
  {
   "cell_type": "code",
   "execution_count": 1,
   "id": "22372e19",
   "metadata": {},
   "outputs": [],
   "source": [
    "import numpy as np\n",
    "np.random.seed(42)\n",
    "\n",
    "def algorithm_5(A, B, C, D, E, X0, Y0, k_limit = 40, EPS = 1e-5):\n",
    "    \"\"\"Solves AXB + CYD = E for X, Y\n",
    "    \"\"\"\n",
    "    R0 = E - A @ X0 @ B - C @ Y0 @ D\n",
    "    P0 = A.T @ R0 @ B.T\n",
    "    Q0 = C.T @ R0 @ D.T\n",
    "    X = X0\n",
    "    Y = Y0\n",
    "    k = 1\n",
    "    while k <= k_limit and np.linalg.norm(R0) > EPS:\n",
    "        R0_norm = np.linalg.norm(R0) ** 2\n",
    "        P0_norm = np.linalg.norm(P0) ** 2\n",
    "        Q0_norm = np.linalg.norm(Q0) ** 2\n",
    "        if P0_norm < EPS and Q0_norm < EPS and R0_norm > EPS:\n",
    "            raise ValueError(\"No solutions exist\")\n",
    "        RPQ = 1.0 * R0_norm / (P0_norm + Q0_norm)\n",
    "        X = X0 + RPQ * P0 \n",
    "        Y = Y0 + RPQ * Q0\n",
    "        R = E - A @ X @ B - C @ Y @ D\n",
    "        R_norm = np.linalg.norm(R) ** 2\n",
    "        RR = 1.0 * R_norm / R0_norm\n",
    "        P = A.T @ R @ B.T + RR * P0\n",
    "        Q = C.T @ R @ D.T + RR * Q0\n",
    "        R0, P0, Q0, X0, Y0 = R, P, Q, X, Y\n",
    "        k += 1\n",
    "    return X, Y"
   ]
  },
  {
   "cell_type": "markdown",
   "id": "001558df",
   "metadata": {},
   "source": [
    "Приведем по нашему мнению наиболее интересные факты этой статьи, которые упомянули авторы:\n",
    "\n",
    " - Если на каком-то шаге $k$ алгоритма получается так, что $P_{k} = 0$ и $Q_{k} = 0$ одновременно, но при этом $R_{k} \\neq 0$, то решений нет\n",
    " - В теории, сходимость, которая заключается в верности равенства $R_{k} = 0$, получается не более чем за $pq$ итераций. В действительности такое скорей всего не получается из-за естественной ошибки округления и конечности представления чисел в памяти компьютера. Однако, мы можем использовать это знание, как оценку для количества итераций, необходимых нашему алгоритму в худшему случаю для сходимости.\n",
    " \n",
    "Хочется отметить, что во втором пункте, кажется, оценка должна быть все таки не $pq$, а $pq + 1$ в худшем случае."
   ]
  },
  {
   "cell_type": "markdown",
   "id": "96d8cd95",
   "metadata": {},
   "source": [
    "Применим для начала `algorithm_5` к данным, которые авторы явно указали в их статье. В качестве матриц $X_0$  и $Y_0$ возьмем нулевые матрицы, что эквивалентно тому, что сделали авторы в своем примере, о чем они явно говорят на странице 481. Поскольку в случае примера, рассмотренного в статье, $pq = 30$, то нам должно быть достаточно 31 итерации для сходимости в худшем случае. Однако, остается не ясным точно, зачем авторы взяли $pq = 40$, что заведомо больше значения, которое нужно для сходимости по их собственному доказательству. Объяснение этого факта они опустили. Можно предположить, что это связано с тем, что будет все таки накапливаться ошибка округреления, которая может не всегда дать выполниться условию на сходимость, поэтому следует взять количество итераций с небольшим запасом."
   ]
  },
  {
   "cell_type": "code",
   "execution_count": 2,
   "id": "3961eba2",
   "metadata": {},
   "outputs": [
    {
     "name": "stdout",
     "output_type": "stream",
     "text": [
      "Article example, Error =  2.33190692348618e-10\n"
     ]
    }
   ],
   "source": [
    "A = np.asarray([[1, 3, 1, 3, 1],\n",
    "                [3, -7, 3, -7, 3],\n",
    "                [3, -2, 3, -2, 3],\n",
    "                [11, 6, 11, 6, 11],\n",
    "                [-5, 5, -5, 5, -5],\n",
    "                [9, 4, 9, 4, 9]], dtype = np.float64)\n",
    "\n",
    "B = np.asarray([[-1, 4, -1, 4, -1],\n",
    "                [5, -1, 5, -1, 5],\n",
    "                [-1, -2, -1, -2, -1],\n",
    "                [3, 9, 3, 9, 3],\n",
    "                [7, -8, 7, -8, 7]], dtype = np.float64)\n",
    "\n",
    "C = np.asarray([[3, -4, 3, -4, 1, 6],\n",
    "                [-1, 3, -1, 3, -3, -1],\n",
    "                [3, -5, 3, -5, 2, 5],\n",
    "                [3, -4, 3, -4, 1, 6],\n",
    "                [-1, 3, -1, 3, -3, -1],\n",
    "                [3, -5, 3, -5, 2, 5]], dtype = np.float64)\n",
    "\n",
    "D = np.asarray([[-5, 4, -1, -5, 4],\n",
    "                [-2, 3, 5, -2, 3],\n",
    "                [3, 5, -1, 3, 5],\n",
    "                [2, -6, 3, 2, -6],\n",
    "                [1, 11, 7, 1, 11],\n",
    "                [4, -1, 4, -5, 4]], dtype = np.float64)\n",
    "\n",
    "\n",
    "E = np.asarray([[-79, 613, -172, 126, 424],\n",
    "                [245, 479, 317, 612, 128],\n",
    "                [124, 975, -7, 519, 584],\n",
    "                [14, 2099, -79, 1612, 517],\n",
    "                [-247, -969, -175, -836, -364],\n",
    "                [58, 1791, -73, 1335, 518]], dtype = np.float64)\n",
    "\n",
    "X0 = np.zeros((5,5), dtype = np.float64)\n",
    "Y0 = np.zeros((6,6), dtype = np.float64)\n",
    "\n",
    "X, Y = algorithm_5(A, B, C, D, E, X0, Y0, k_limit = 35, EPS = 1e-10)\n",
    "print(\"Article example, Error = \", np.linalg.norm(E - A @ X @ B - C @ Y @ D))"
   ]
  },
  {
   "cell_type": "markdown",
   "id": "aa9535b5",
   "metadata": {},
   "source": [
    "Видим, что сходимость алгоритма выполняется, и ошибка не накапливается. Применим теперь `algorithm_5` к случайно-сгенерированным данным разных размеров. Сначала к матрицам небольших размеров, а затем к матрица большего размера."
   ]
  },
  {
   "cell_type": "markdown",
   "id": "7f4a7ead",
   "metadata": {},
   "source": [
    "В примере сразу ниже мы работаем с матрицами следующих размеров $A^{3 \\times 3}$, $B^{3 \\times 3}$, $C^{3 \\times 4}$, $D^{4 \\times 3}$, $E^{3 \\times 3}$, $X_{0}^{3 \\times 3}$, и $Y_{0}^{4 \\times 4}$. Поэтому нам достаточно взять число итераций равным $pq + 1 = 9 + 1 = 10$. "
   ]
  },
  {
   "cell_type": "code",
   "execution_count": 3,
   "id": "fb7b1e31",
   "metadata": {},
   "outputs": [
    {
     "name": "stdout",
     "output_type": "stream",
     "text": [
      "Random example, 1 Error =  1.240324779053784e-07\n"
     ]
    }
   ],
   "source": [
    "np.random.seed(2021)\n",
    "A = np.random.randint(low = 1, high = 500, size = (3, 3)) / 1.0\n",
    "B = np.random.randint(low = 1, high = 500, size = (3, 3)) / 1.0\n",
    "C = np.random.randint(low = 1, high = 500, size=(3, 4)) / 1.0\n",
    "D = np.random.randint(low = 1, high = 500, size=(4, 3)) / 1.0\n",
    "E = np.random.randint(low = 1, high = 500, size=(3, 3)) / 1.0\n",
    "X0 = np.zeros((3, 3), dtype = np.float32)\n",
    "Y0 = np.zeros((4, 4), dtype = np.float32)\n",
    "\n",
    "X, Y = algorithm_5(A, B, C, D, E, X0, Y0, k_limit = 10)\n",
    "print(\"Random example, 1 Error = \", np.linalg.norm(E - A @ X @ B - C @ Y @ D))"
   ]
  },
  {
   "cell_type": "markdown",
   "id": "6a371fd8",
   "metadata": {},
   "source": [
    "В этом примере мы работаем с матрицами следующих размеров $A^{30 \\times 30}$, $B^{30 \\times 30}$, $C^{30 \\times 40}$, $D^{40 \\times 30}$, $E^{30 \\times 30}$, $X_{0}^{30 \\times 30}$, и $Y_{0}^{40 \\times 40}$. Поэтому нам достаточно взять число итераций равным $pq + 1 = 900 + 1 = 901$. "
   ]
  },
  {
   "cell_type": "code",
   "execution_count": 4,
   "id": "04e25aa3",
   "metadata": {},
   "outputs": [
    {
     "name": "stdout",
     "output_type": "stream",
     "text": [
      "Random example 2, Error:  2.595301997272203e-05\n"
     ]
    }
   ],
   "source": [
    "np.random.seed(42)\n",
    "A = np.random.randint(low = 1, high = 500, size = (30, 30)) / 1.0\n",
    "B = np.random.randint(low = 1, high = 500, size = (30, 30)) / 1.0\n",
    "C = np.random.randint(low = 1, high = 500, size=(30, 40)) / 1.0\n",
    "D = np.random.randint(low = 1, high = 500, size=(40, 30)) / 1.0\n",
    "E = np.random.randint(low = 1, high = 500, size=(30, 30)) / 1.0\n",
    "X0 = np.zeros((30, 30), dtype=np.float32)\n",
    "Y0 = np.zeros((40, 40), dtype=np.float32)\n",
    "\n",
    "X, Y = algorithm_5(A, B, C, D, E, X0, Y0, k_limit = 901, EPS = 1e-10)\n",
    "print(\"Random example 2, Error: \", np.linalg.norm(E - A @ X @ B - C @ Y @ D))"
   ]
  },
  {
   "cell_type": "markdown",
   "id": "f293e843",
   "metadata": {},
   "source": [
    "В этих двух примерах, как и в примере из статьи, можно сказать, что для случайных данных ошибка не накапливается, и является малой.\n",
    "\n",
    "Теперь замерим время выполнения, а также посмотрим на ошибку численного решения. Оба этих измерения будет делать в зависимости от размера матриц. Количество итераций возьмем с запасом для каждого запуска для определенного размера матрицы. Как мы обсуждали выше, такое отхождение от теории связано с невозможностью точного представления чисел в памяти компьютера на каждом шаге итеративного вычисления."
   ]
  },
  {
   "cell_type": "code",
   "execution_count": 5,
   "id": "8edd8eb6",
   "metadata": {},
   "outputs": [
    {
     "name": "stdout",
     "output_type": "stream",
     "text": [
      "5 \tdone\n",
      "10 \tdone\n",
      "15 \tdone\n",
      "20 \tdone\n",
      "25 \tdone\n",
      "35 \tdone\n",
      "50 \tdone\n",
      "60 \tdone\n",
      "80 \tdone\n",
      "100 \tdone\n"
     ]
    },
    {
     "data": {
      "image/png": "[encoded data removed]",
      "text/plain": [
       "<Figure size 432x288 with 1 Axes>"
      ]
     },
     "metadata": {
      "needs_background": "light"
     },
     "output_type": "display_data"
    },
    {
     "data": {
      "image/png": "[encoded data removed]",
      "text/plain": [
       "<Figure size 432x288 with 1 Axes>"
      ]
     },
     "metadata": {
      "needs_background": "light"
     },
     "output_type": "display_data"
    },
    {
     "name": "stdout",
     "output_type": "stream",
     "text": [
      "Size   Error\n",
      "(5, 5.29880241279782e-07)\n",
      "(10, 5.384403287313119e-06)\n",
      "(15, 9.811662774916078e-06)\n",
      "(20, 9.446659823977817e-06)\n",
      "(25, 9.695044639089325e-06)\n",
      "(35, 7.981277344924892e-06)\n",
      "(50, 9.926731335548537e-06)\n",
      "(60, 9.075052841201585e-06)\n",
      "(80, 9.075121224633246e-06)\n",
      "(100, 8.97043398167318e-06)\n"
     ]
    }
   ],
   "source": [
    "import time\n",
    "import seaborn as sns\n",
    "from matplotlib import pyplot as plt\n",
    "%matplotlib inline\n",
    "import warnings\n",
    "warnings.simplefilter('ignore')\n",
    "\n",
    "np.random.seed(555)\n",
    "size = [5, 10, 15, 20, 25, 35, 50, 60, 80, 100]\n",
    "tau = []\n",
    "error = []\n",
    "for i in size:\n",
    "    A = np.random.randint(low = 1, high = 500, size = (i, i)) / 1.0\n",
    "    B = np.random.randint(low = 1, high = 500, size = (i, i)) / 1.0\n",
    "    C = np.random.randint(low = 1, high = 500, size=(i, i)) / 1.0\n",
    "    D = np.random.randint(low = 1, high = 500, size=(i, i)) / 1.0\n",
    "    E = np.random.randint(low = 1, high = 500, size=(i, i)) / 1.0\n",
    "    X0 = np.zeros((i, i), dtype = np.float32)\n",
    "    Y0 = np.zeros((i, i), dtype = np.float32)\n",
    "    start_time = time.time()\n",
    "    X, Y = algorithm_5(A, B, C, D, E, X0, Y0, k_limit = 500 * i)\n",
    "    end_time = time.time()\n",
    "    tau.append(end_time - start_time)\n",
    "    error.append(np.linalg.norm(E - A @ X @ B - C @ Y @ D))\n",
    "    print(i, \"\\tdone\")\n",
    "    \n",
    "plt.scatter(x = size, y = tau, color = 'blue')\n",
    "plt.title(\"Calculation time vs matrix size\")\n",
    "plt.ylabel('time in seconds')\n",
    "plt.xlabel('matrix size')\n",
    "plt.show()\n",
    "\n",
    "plt.scatter(x = size, y = error, color = 'red')\n",
    "plt.title(\"Error vs matrix size\")\n",
    "plt.ylabel('error (Frobenius norm)')\n",
    "plt.xlabel('matrix size')\n",
    "plt.show()\n",
    "\n",
    "print(\"Size \", \" Error\")\n",
    "for j in zip(size, error):\n",
    "    print(j)"
   ]
  },
  {
   "cell_type": "markdown",
   "id": "e9688539",
   "metadata": {},
   "source": [
    "---"
   ]
  },
  {
   "cell_type": "markdown",
   "id": "027548cc",
   "metadata": {},
   "source": [
    "Продолжаем исследовать уравнение Сильвестра. На это раз рассмотрим случай, когда $B = I$, $Y = O$, $E = I$, соответственно $AX = I$. \n",
    "\n",
    "1) Рассмотрим сначала матрицу вида $A = \\begin{pmatrix} a & b & b \\\\ b & b & a \\\\ b & a & b \\end{pmatrix}$, a>b, в таком случае вид обратной матрицы $A^{-1} = \\begin{pmatrix} c & d & d \\\\ d & d & c \\\\ d & c & d \\end{pmatrix}$:"
   ]
  },
  {
   "cell_type": "code",
   "execution_count": 6,
   "id": "f487085a",
   "metadata": {},
   "outputs": [],
   "source": [
    "import time\n",
    "import random\n",
    "import numpy as np"
   ]
  },
  {
   "cell_type": "code",
   "execution_count": 7,
   "id": "c7fd031c",
   "metadata": {},
   "outputs": [
    {
     "name": "stdout",
     "output_type": "stream",
     "text": [
      "Error1:  5.328058500079354e-16\n",
      "Error2:  1.4752290795525882e-16\n",
      "Error1:  8.082545620880531e-15\n",
      "Error2:  1.1185187043022341e-15\n",
      "Error1:  6.66206090998903e-16\n",
      "Error2:  2.155529167242746e-16\n",
      "Error1:  1.4325749365178209e-15\n",
      "Error2:  2.3714374201337736e-16\n",
      "Error1:  4.3177542613803813e-16\n",
      "Error2:  9.959186318969168e-17\n",
      "Error1:  4.0980616289968964e-16\n",
      "Error2:  6.798699777552591e-17\n",
      "Error1:  3.3483308810158227e-16\n",
      "Error2:  4.955361418800576e-17\n",
      "Error1:  5.328058500079354e-16\n",
      "Error2:  7.376145397762941e-17\n",
      "Error1:  3.242773118236043e-16\n",
      "Error2:  4.291468873614597e-17\n",
      "Error1:  3.925231146709438e-17\n",
      "Error2:  0.0\n",
      "Error1:  1.5469220910896388e-16\n",
      "Error2:  2.999617302079403e-17\n",
      "Error1:  6.66206090998903e-16\n",
      "Error2:  1.077764583621373e-16\n",
      "Error1:  3.076775508510636e-16\n",
      "Error2:  5.1577036902917074e-17\n",
      "Error1:  2.324270529436321e-16\n",
      "Error2:  4.0311330796399294e-17\n",
      "Error1:  1.2098374922832816e-16\n",
      "Error2:  1.4821483875836085e-17\n",
      "Error1:  4.3177542613803813e-16\n",
      "Error2:  4.979593159484584e-17\n"
     ]
    }
   ],
   "source": [
    "a = np.linspace(3, 10, 8)\n",
    "b = np.asarray([1, 2])\n",
    "for i in a:\n",
    "    for j in b:\n",
    "        A = np.asarray([[i, j, j], [j, j, i], [j, i, j]])\n",
    "        B = np.eye(3)\n",
    "        C = np.zeros((3, 3), dtype = np.float32)\n",
    "        D = np.zeros((3, 3), dtype = np.float32)\n",
    "        E = np.eye(3)\n",
    "        X0 = np.zeros((3, 3), dtype = np.float32)\n",
    "        Y0 = np.zeros((3, 3), dtype = np.float32)\n",
    "        \n",
    "        X, Y = algorithm_5(A, B, C, D, E, X0, Y0, k_limit = 10)\n",
    "        X_np = np.linalg.inv(A)\n",
    "        print(\"Error1: \", np.linalg.norm(E - A @ X @ B - C @ Y @ D))\n",
    "        print(\"Error2: \", np.linalg.norm(X - X_np))"
   ]
  },
  {
   "cell_type": "markdown",
   "id": "103b8900",
   "metadata": {},
   "source": [
    "Рассмотрим матрицы больших размерностей подобного вида, и сравним время работы с стандартным временем вычисления обратной матрицы numpy:"
   ]
  },
  {
   "cell_type": "code",
   "execution_count": 8,
   "id": "e35dac40",
   "metadata": {},
   "outputs": [],
   "source": [
    "sizes = [5, 10, 15, 20, 25, 35, 50, 60, 80, 100, 200, 300, 500, 1000, 1500, 2000, 5000]\n",
    "dt_algorithm_5 = []\n",
    "dt_numpy = []\n",
    "error_X_np = []\n",
    "error_X = []\n",
    "\n",
    "for size_a in sizes:\n",
    "    a = ((random.random() - 0.5) * 1000)\n",
    "    b = a - (random.random() - 0.5) * 100\n",
    "    A = b * np.ones((size_a, size_a))\n",
    "    A[0, 0] = a\n",
    "    for i in range(1, size_a):\n",
    "        A[i, size_a - i] = a\n",
    "    \n",
    "    B = np.eye(size_a)\n",
    "    C = np.zeros((size_a, size_a), dtype = np.float32)\n",
    "    D = np.zeros((size_a, size_a), dtype = np.float32)\n",
    "    E = np.eye(size_a)\n",
    "    X0 = np.zeros((size_a, size_a), dtype = np.float32)\n",
    "    Y0 = np.zeros((size_a, size_a), dtype = np.float32)\n",
    "    \n",
    "    tic = time.perf_counter()\n",
    "    X, Y = algorithm_5(A, B, C, D, E, X0, Y0, k_limit = 500*size_a)\n",
    "    toc = time.perf_counter()\n",
    "    dt_algorithm_5.append(toc - tic)\n",
    "    \n",
    "    tic = time.perf_counter()\n",
    "    X_np = np.linalg.inv(A)\n",
    "    toc = time.perf_counter()\n",
    "    dt_numpy.append(toc - tic)\n",
    "    \n",
    "    error_X_np.append(np.linalg.norm(E - A @ X_np @ B - C @ Y @ D))\n",
    "    error_X.append(np.linalg.norm(E - A @ X @ B - C @ Y @ D))"
   ]
  },
  {
   "cell_type": "code",
   "execution_count": 9,
   "id": "24795603",
   "metadata": {},
   "outputs": [],
   "source": [
    "import matplotlib.pyplot as plt\n",
    "%matplotlib inline\n",
    "plt.style.use('ggplot')"
   ]
  },
  {
   "cell_type": "code",
   "execution_count": 10,
   "id": "64ebc985",
   "metadata": {},
   "outputs": [
    {
     "data": {
      "image/png": "[encoded data removed]",
      "text/plain": [
       "<Figure size 1152x288 with 1 Axes>"
      ]
     },
     "metadata": {},
     "output_type": "display_data"
    }
   ],
   "source": [
    "plt.figure(figsize=(16, 4))\n",
    "plt.plot(sizes, dt_algorithm_5, label=\"dt_algorithm_5\")\n",
    "plt.plot(sizes, dt_numpy, color='blue', label=\"numpy\")\n",
    "plt.yscale('log')\n",
    "plt.ylabel('log(t)')\n",
    "plt.xlabel('n')\n",
    "#plt.ylim([0, 1.5])\n",
    "plt.title(u'Функция зависимости времени от размера матрицы')\n",
    "plt.legend()\n",
    "plt.show()"
   ]
  },
  {
   "cell_type": "markdown",
   "id": "ae986367",
   "metadata": {},
   "source": [
    "Как видно из этого графика, алгоритму из работы 5 требуется больше времени для выполнения необходимых расчетов, чем таковому из библиотеки numpy. \n",
    "\n",
    "Исследуем теперь зависимость накапливаемой ошибки от размера матрицы."
   ]
  },
  {
   "cell_type": "code",
   "execution_count": 11,
   "id": "bd06c473",
   "metadata": {},
   "outputs": [
    {
     "data": {
      "image/png": "[encoded data removed]",
      "text/plain": [
       "<Figure size 1152x288 with 1 Axes>"
      ]
     },
     "metadata": {},
     "output_type": "display_data"
    }
   ],
   "source": [
    "plt.figure(figsize=(16, 4))\n",
    "plt.plot(sizes, error_X, label=\"Ошибка алгоритма_5\")\n",
    "plt.plot(sizes, error_X_np, color='blue', label=\"Ошибка numpy\")\n",
    "plt.yscale('log')\n",
    "plt.ylabel('log(t)')\n",
    "plt.xlabel('n')\n",
    "plt.title(u'Функция зависимости ошибки от размера матрицы')\n",
    "plt.legend()\n",
    "plt.show()"
   ]
  },
  {
   "cell_type": "markdown",
   "id": "8da5f5a6",
   "metadata": {},
   "source": [
    "Видим, что при больших размерностях матриц алгоритм_5 совпадает с поведением numpy."
   ]
  },
  {
   "cell_type": "markdown",
   "id": "88a8a802",
   "metadata": {},
   "source": [
    "---"
   ]
  },
  {
   "cell_type": "markdown",
   "id": "04bf87cc",
   "metadata": {},
   "source": [
    "Алгоритм 5 так же можно применять для проверки свойства коммутативности матриц.\n",
    "\n",
    "Полагая $B = I$, $C = -I$, $D = A$, $E = O$ в изначальном нашем уравнении, мы приходим к уравнению вида\n",
    "\n",
    "$$AX - YA = 0$$\n",
    "\n",
    "Понятно, что решение не всегда существует. При этом может получится 2 случая, когда $X =Y$ и когда $X \\neq Y$. Посмотрим, что нам предскажет алгоритм из работы 5."
   ]
  },
  {
   "cell_type": "code",
   "execution_count": 12,
   "id": "dbd0de39",
   "metadata": {},
   "outputs": [],
   "source": [
    "A = np.array([[1,2],[2,1]])\n",
    "B = np.eye(2,2)\n",
    "C = -1 * np.eye(2,2)\n",
    "D = A\n",
    "E = np.zeros((2,2))\n",
    "X0 = np.ones((2,2))\n",
    "Y0 = np.ones((2,2))\n",
    "\n",
    "X, Y = algorithm_5(A, B, C, D, E, X0, Y0, k_limit = 40, EPS = 1e-5)\n",
    "assert np.allclose(A @ X, Y @ A)\n",
    "assert np.allclose(X, Y)"
   ]
  },
  {
   "cell_type": "code",
   "execution_count": 13,
   "id": "59b2c1cf",
   "metadata": {},
   "outputs": [],
   "source": [
    "np.random.seed(2021)\n",
    "A = np.array([[1,2],[2,1]])\n",
    "B = np.eye(2,2)\n",
    "C = -1 * np.eye(2,2)\n",
    "D = A\n",
    "E = np.zeros((2,2))\n",
    "X0 = np.random.uniform(low=0,high=10,size=(2,2))\n",
    "Y0 = np.random.uniform(low=0,high=-10,size=(2,2))\n",
    "\n",
    "X, Y = algorithm_5(A, B, C, D, E, X0, Y0, k_limit = 1000, EPS = 1e-5)\n",
    "assert np.allclose(A @ X, Y @ A)"
   ]
  },
  {
   "cell_type": "code",
   "execution_count": 14,
   "id": "88e65a59",
   "metadata": {},
   "outputs": [],
   "source": [
    "np.random.seed(2021)\n",
    "A = np.random.uniform(low=-50,high=50,size=(20,20))\n",
    "B = np.eye(20,20)\n",
    "C = -1 * np.eye(20,20)\n",
    "D = A\n",
    "E = np.zeros((20,20))\n",
    "X0 = np.random.uniform(low=-50,high=50,size=(20,20))\n",
    "Y0 = np.random.uniform(low=50,high=-50,size=(20,20))\n",
    "\n",
    "X, Y = algorithm_5(A, B, C, D, E, X0, Y0, k_limit = 1000, EPS = 1e-5)\n",
    "assert np.allclose(A @ X, Y @ A)"
   ]
  },
  {
   "cell_type": "markdown",
   "id": "686ccf8b",
   "metadata": {},
   "source": [
    "Однако, если вывести получившиеся $X$ и $Y$, то мы увидим, что они не одни и теже. Коммутативность дело нетривиальное."
   ]
  },
  {
   "cell_type": "markdown",
   "id": "f233505d",
   "metadata": {},
   "source": [
    "---"
   ]
  },
  {
   "cell_type": "markdown",
   "id": "bbcd2c18",
   "metadata": {},
   "source": [
    "### Уравнения Ляпунова\n",
    "\n",
    "Как мы писали ранее, кроме уравнения Сильвестра, интерес представляет уравнение Ляпунова. Этот раздел посвящен именно ему.\n",
    "\n",
    "Исследуем нулевое решение системы\n",
    "$$\\dot{x} = Ax$$ \n",
    "на устойчивость.\n",
    "\n",
    "Нулевое решение глобально асимптотически устойчиво в том случае, если существует функция Ляпнуова $V(x)$, такая что:\n",
    "1. $V(x) > 0 \\quad \\forall x \\ne 0$\n",
    "2. $\\dot{V}(x) < 0 \\quad \\forall x \\ne 0$\n",
    "\n",
    "Искать такую функцию удобно в виде квадратичной формы $V(x) = x^TPx$, где $P > 0$ (положительно определенная).\n",
    "\n",
    "Найдем $\\dot{V}(x)$ в этом случае:\n",
    "$$\\dot{V}(x) = \\dot{x}^TPx + xP\\dot{x}^T = (Ax)^TPx + x^TP(Ax) = x^T(A^TP + PA)x < 0$$\n",
    "Откуда следует, что матрица $A^TP + PA$ должна быть отрицательно определенной.\n",
    "\n",
    "> **Теорема Ляпунова(для непрерывного времени)**  \n",
    "> Если для некоторой матрицы $Q > 0$ существует матрица $P > 0$ такая что, \n",
    "> $$A^TP + PA =  -Q \\tag{10}$$\n",
    "> тогда система $\\dot{x} = Ax$ глобально асимптотически устойчива. \n",
    "> Причем соответсвующая функция Ляпунова имеет вид квадратичной формы $V(x) = x^TPx$.\n",
    "\n",
    "*Аналогичная теорема есть для дискретного времени, но мы ее опустим.*  \n",
    "Матрицу $Q$ мы задаем сами. Например, можно взять единичную $Q = I$.\n",
    "\n",
    "Получили частный случай уравнения (1).  \n",
    "Воспользоваться алгоритмом 5 сразу мы не можем, так как требуется чтобы $X = Y$, а алгоритм этого не гарантирует.  \n",
    "Но можно преобразовать уравнение так, чтобы алгоритм был применим. \n",
    "Для этого нужно просто заметить, что уравнение (10) это то же самое, что\n",
    "$$(I \\otimes A + A \\otimes I) \\text{vec}(P) = \\text{vec}(-Q)$$\n",
    "\n",
    "В итоге получаем уравнение, в котором искомая матрица ищется в виде вектора-столбца. \n",
    "Матрица $B$ не участвует в рассчете, поэтому положим $B=1$. Аналогично нам неинтересна матрица $Y$, так что пусть\n",
    "$C = D = 0$.\n",
    "\n",
    "В `scipy` уже реализован метод решения данного уравнения `solve_continuous_lyapunov`,\n",
    "так что мы можем сравнить результаты с ним."
   ]
  },
  {
   "cell_type": "code",
   "execution_count": 15,
   "id": "b48524a7",
   "metadata": {},
   "outputs": [],
   "source": [
    "from scipy.linalg import solve_continuous_lyapunov "
   ]
  },
  {
   "cell_type": "code",
   "execution_count": 16,
   "id": "f8aecdb0",
   "metadata": {},
   "outputs": [],
   "source": [
    "A = np.array([\n",
    "    [1, 2], \n",
    "    [-3, -4]\n",
    "])\n",
    "Q = np.array([\n",
    "    [3, 1], \n",
    "    [1, 1]\n",
    "])"
   ]
  },
  {
   "cell_type": "code",
   "execution_count": 17,
   "id": "47a794f6",
   "metadata": {},
   "outputs": [
    {
     "data": {
      "text/plain": [
       "(array([[ 6.16666667, -3.83333333],\n",
       "        [-3.83333333,  3.        ]]),\n",
       " array([8.73078905, 0.43587762]))"
      ]
     },
     "execution_count": 17,
     "metadata": {},
     "output_type": "execute_result"
    }
   ],
   "source": [
    "X = solve_continuous_lyapunov(A, -Q)\n",
    "X, np.linalg.eigvals(X)"
   ]
  },
  {
   "cell_type": "code",
   "execution_count": 18,
   "id": "463da853",
   "metadata": {},
   "outputs": [
    {
     "name": "stdout",
     "output_type": "stream",
     "text": [
      "A=\n",
      "[[ 2.  2.  2.  0.]\n",
      " [-3. -3.  0.  2.]\n",
      " [-3.  0. -3.  2.]\n",
      " [-0. -3. -3. -8.]]\n",
      "Q=\n",
      "[[3]\n",
      " [1]\n",
      " [1]\n",
      " [1]]\n",
      "X_0=\n",
      "[[0.48168984]\n",
      " [0.10452319]\n",
      " [0.72846203]\n",
      " [0.70001243]]\n"
     ]
    }
   ],
   "source": [
    "A_new = np.kron(np.eye(A.shape[0]), A) + np.kron(A, np.eye(A.shape[0]),)\n",
    "Q_new = np.reshape(Q, (-1, 1), order='F')\n",
    "X_0 = np.random.random(Q_new.shape)\n",
    "print(f\"A=\\n{A_new}\")\n",
    "print(f\"Q=\\n{Q_new}\")\n",
    "print(f\"X_0=\\n{X_0}\")"
   ]
  },
  {
   "cell_type": "code",
   "execution_count": 19,
   "id": "8eeabc6f",
   "metadata": {},
   "outputs": [],
   "source": [
    "O = np.zeros_like(A_new)\n",
    "I = np.ones((1,1))\n",
    "Y_0 = np.zeros_like(X_0)"
   ]
  },
  {
   "cell_type": "markdown",
   "id": "f5da531f",
   "metadata": {},
   "source": [
    "Проверим, что алгоритм из работы [5] может получить такое же решение."
   ]
  },
  {
   "cell_type": "code",
   "execution_count": 20,
   "id": "c05abd11",
   "metadata": {},
   "outputs": [],
   "source": [
    "# %%timeit\n",
    "X_vec, _ = algorithm_5(\n",
    "    A=A_new,\n",
    "    B=I,\n",
    "    C=O,\n",
    "    D=I,\n",
    "    E=-Q_new,\n",
    "    X0=X_0,\n",
    "    Y0=Y_0,\n",
    "    k_limit=5\n",
    ")"
   ]
  },
  {
   "cell_type": "code",
   "execution_count": 21,
   "id": "f0933898",
   "metadata": {},
   "outputs": [
    {
     "name": "stdout",
     "output_type": "stream",
     "text": [
      "X=\n",
      "[[ 6.16666667 -3.83333333]\n",
      " [-3.83333333  3.        ]]\n"
     ]
    }
   ],
   "source": [
    "# return to original shape\n",
    "X = X_vec.reshape((X_vec.shape[0] // 2, X_vec.shape[0] // 2))\n",
    "print(f\"X=\\n{X}\")"
   ]
  },
  {
   "cell_type": "markdown",
   "id": "e97e6d87",
   "metadata": {},
   "source": [
    "Ожидаемо получили такое же решение."
   ]
  },
  {
   "cell_type": "markdown",
   "id": "d4ed8ee8",
   "metadata": {},
   "source": [
    "Сделаем сравнение по скорости для алгоритма из работы [5], и solve_continuous_lyapunov из библиотеки scipy."
   ]
  },
  {
   "cell_type": "code",
   "execution_count": 22,
   "id": "30db8dc7",
   "metadata": {},
   "outputs": [],
   "source": [
    "import time\n",
    "\n",
    "size = []\n",
    "time_algo5 = []\n",
    "time_scipy = []\n",
    "\n",
    "for n in range(2,31,2):\n",
    "    size.append(n)\n",
    "    A = np.random.randint(low=-500,high=500,size=(n,n))\n",
    "    A_new = np.kron(np.eye(A.shape[0]), A) + np.kron(A, np.eye(A.shape[0]),)\n",
    "    Q = np.random.randint(low=-20,high=20,size=(n,n))\n",
    "    Q_new = np.reshape(Q, (-1, 1), order='F')\n",
    "    X_0 = np.random.random(Q_new.shape)\n",
    "    O = np.zeros_like(A_new)\n",
    "    I = np.ones((1,1))\n",
    "    Y_0 = np.zeros_like(X_0)\n",
    "    start = time.time()\n",
    "    X_vec, _ = algorithm_5(\n",
    "        A=A_new,\n",
    "        B=I,\n",
    "        C=O,\n",
    "        D=I,\n",
    "        E=-Q_new,\n",
    "        X0=X_0,\n",
    "        Y0=Y_0,\n",
    "        k_limit=500 * n\n",
    "    )\n",
    "    end = time.time()\n",
    "    time_algo5.append(end - start)\n",
    "    \n",
    "    X_algo5 = X_vec.reshape((X_vec.shape[0] // n, X_vec.shape[0] // n)).T\n",
    "\n",
    "    start = time.time()\n",
    "    X_scipy = solve_continuous_lyapunov(A, -Q)\n",
    "    end = time.time()\n",
    "    time_scipy.append(end - start)\n",
    "    \n",
    "    assert np.allclose(A @ X_algo5 + X_algo5 @ A.T, -Q, atol=1e-5)\n",
    "    assert np.allclose(A @ X_scipy + X_scipy @ A.T, -Q, atol=1e-5)\n",
    "    assert np.allclose(X_algo5, X_scipy, atol=1e-5)"
   ]
  },
  {
   "cell_type": "code",
   "execution_count": 23,
   "id": "1331b769",
   "metadata": {},
   "outputs": [],
   "source": [
    "from matplotlib import pyplot as plt\n",
    "%matplotlib inline"
   ]
  },
  {
   "cell_type": "code",
   "execution_count": 24,
   "id": "0e3b3a9e",
   "metadata": {},
   "outputs": [
    {
     "data": {
      "image/png": "[encoded data removed]",
      "text/plain": [
       "<Figure size 432x288 with 1 Axes>"
      ]
     },
     "metadata": {
      "needs_background": "light"
     },
     "output_type": "display_data"
    }
   ],
   "source": [
    "plt.title(\"Time complexity of Algo5 and Scipy\")\n",
    "plt.scatter(x=size,y=time_algo5)\n",
    "plt.scatter(x=size,y=time_scipy)\n",
    "plt.legend(['algo5','scipy'])\n",
    "plt.ylabel('Time (s)')\n",
    "plt.xlabel('size of a matrix')\n",
    "plt.show()"
   ]
  },
  {
   "cell_type": "markdown",
   "id": "55b0ec40",
   "metadata": {},
   "source": [
    "Как мы видим из этого рисунка, алгоритм из работы 5 проигрывает реализованному в scipy алгоритму для решения матричного уравнения Ляпунова для матриц относительно больших размеров при $n > 10$, а при $n > 20$ видим начинающийся экспоненциальный рост по времени решения для алгоритма из [5]. Так же хочется отметить, что скорей всего алгоритм из scipy сильно оптимизирован под капотом, тогда как реализованный нами алгоритм 5 нет. Одним из продолжений данного проекта может быть имплементация алгоритма 5 с помощью numba. Это позволит существенно ускорить время работы."
   ]
  },
  {
   "cell_type": "markdown",
   "id": "0c052107",
   "metadata": {},
   "source": [
    "$\\bf{Ссылки}$\n",
    "\n",
    "1. Baksalary JK, Kala R. The matrix equation AXB + CYD = E. Linear Algebra and its Applications 1980; 30:141–147.\n",
    "\n",
    "2. Xu G, Wei M, Zheng D. On solutions of matrix equation AXB+CYD = F. Linear Algebra and its Applications 1980; 279:93–109.\n",
    "\n",
    "3. Chu KE. Singular value and generalized value decompositions and the solution of linear matrix equations. Linear Algebra and its Applications 1987; 87:83–98.\n",
    "\n",
    "3. Peng Z-Y, Hu X-Y, Zhang L. The inverse problem of bisymmetric matrices with a submatrix constraint. Numerical Linear Algebra with Applications 2004; 11:59–73.\n",
    "\n",
    "4. Zhen-yun Peng, Ya-xin Peng. An effcient iterative method for solving the matrix equation AXB + CYD = E 2006; 13:473-485"
   ]
  }
 ],
 "metadata": {
  "kernelspec": {
   "display_name": "Python 3",
   "language": "python",
   "name": "python3"
  },
  "language_info": {
   "codemirror_mode": {
    "name": "ipython",
    "version": 3
   },
   "file_extension": ".py",
   "mimetype": "text/x-python",
   "name": "python",
   "nbconvert_exporter": "python",
   "pygments_lexer": "ipython3",
   "version": "3.8.8"
  }
 },
 "nbformat": 4,
 "nbformat_minor": 5
}
